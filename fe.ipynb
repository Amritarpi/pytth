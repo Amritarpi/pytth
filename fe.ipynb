{
 "cells": [
  {
   "cell_type": "code",
   "execution_count": 21,
   "metadata": {},
   "outputs": [],
   "source": [
    "import os\n",
    "import re\n",
    "from collections import Counter"
   ]
  },
  {
   "cell_type": "code",
   "execution_count": 22,
   "metadata": {},
   "outputs": [],
   "source": [
    "directory_path = r\"C:\\Users\\arpit\\Desktop\\pytth\\movies\"\n",
    "os.makedirs(directory_path, exist_ok=True)\n"
   ]
  },
  {
   "cell_type": "code",
   "execution_count": 23,
   "metadata": {},
   "outputs": [],
   "source": [
    "mov = [\n",
    "    \"Inception is a mind-bending thriller with stunning visual effects and a complex narrative structure.\",\n",
    "    \"The Godfather is a classic film that portrays the rise and fall of a mafia family in America.\",\n",
    "    \"The Shawshank Redemption is an inspiring story of hope and friendship set in a prison.\",\n",
    "    \"The Dark Knight features an iconic performance by Heath Ledger as the Joker in a gripping superhero film.\",\n",
    "    \"Pulp Fiction is a nonlinear crime drama with sharp dialogue and memorable characters.\",\n",
    "    \"The Lord of the Rings: The Return of the King is an epic conclusion to a beloved fantasy trilogy.\",\n",
    "    \"Forrest Gump tells the story of a simple man with an extraordinary life, capturing the heart of America.\",\n",
    "    \"The Matrix revolutionized the sci-fi genre with its groundbreaking special effects and philosophical themes.\",\n",
    "    \"Fight Club is a provocative film that explores themes of identity and consumerism in modern society.\",\n",
    "    \"Titanic is a tragic love story set against the backdrop of a historic maritime disaster.\"\n",
    "]\n",
    "for i, review in enumerate(mov, 1):\n",
    "    file_path = os.path.join(directory_path, f\"review_{i}.txt\")\n",
    "    with open(file_path, 'w', encoding='utf-8') as file:\n",
    "        file.write(review)"
   ]
  },
  {
   "cell_type": "markdown",
   "metadata": {},
   "source": [
    "Prompt 1 (given): Develop a Python program that \n",
    "-reads all the text files under a directory and returns the top-5 words with the most number of occurrences."
   ]
  },
  {
   "cell_type": "code",
   "execution_count": 35,
   "metadata": {},
   "outputs": [],
   "source": [
    "def read_files(directory_path):\n",
    "    text_files = \"\"\n",
    "    for root, _, files in os.walk(directory_path):\n",
    "        for file in files:\n",
    "            if file.endswith(\".txt\"):\n",
    "                file_path = os.path.join(root, file)\n",
    "                with open(file_path, 'r', encoding='utf-8') as f:\n",
    "                    text_files += f.read().lower() + \" \"\n",
    "    return text_files\n",
    "\n",
    "def count_words(text):\n",
    "    words = re.findall(r'\\b\\w+\\b', text)\n",
    "    return Counter(words)"
   ]
  },
  {
   "cell_type": "code",
   "execution_count": 37,
   "metadata": {},
   "outputs": [
    {
     "name": "stdout",
     "output_type": "stream",
     "text": [
      "Top-5 words with the most occurrences:\n",
      "the: 14\n",
      "a: 12\n",
      "of: 8\n",
      "is: 7\n",
      "and: 6\n"
     ]
    }
   ],
   "source": [
    "def topfive_words(directory_path, top_n=5):\n",
    "    all_text = read_files(directory_path)\n",
    "    word_counts = count_words(all_text)\n",
    "    return word_counts.most_common(top_n)\n",
    "\n",
    "\n",
    "directory_path = r\"C:\\Users\\arpit\\Desktop\\pytth\\movies\"  \n",
    "\n",
    "top_words = topfive_words(directory_path)\n",
    "print(\"Top-5 words with the most occurrences:\")\n",
    "for word, count in top_words:\n",
    "    print(f\"{word}: {count}\")"
   ]
  },
  {
   "cell_type": "markdown",
   "metadata": {},
   "source": [
    "Prompt 2: Can you parallelize it?"
   ]
  },
  {
   "cell_type": "markdown",
   "metadata": {},
   "source": [
    "updating read_file to  read single file,get these allfiles path to count words\n",
    "using parallel processing to count_words fuctions,\n",
    "\n"
   ]
  },
  {
   "cell_type": "code",
   "execution_count": 38,
   "metadata": {},
   "outputs": [],
   "source": [
    "from concurrent.futures import ThreadPoolExecutor\n"
   ]
  },
  {
   "cell_type": "code",
   "execution_count": 39,
   "metadata": {},
   "outputs": [],
   "source": [
    "def read_file(file_path):\n",
    "    with open(file_path, 'r', encoding='utf-8') as f:\n",
    "        return f.read().lower()\n",
    "    \n",
    "def get_files(directory_path):\n",
    "    text_files = []\n",
    "    for root, _, files in os.walk(directory_path):\n",
    "        for file in files:\n",
    "            if file.endswith(\".txt\"):\n",
    "                text_files.append(os.path.join(root, file))\n",
    "    return text_files\n"
   ]
  },
  {
   "cell_type": "code",
   "execution_count": 41,
   "metadata": {},
   "outputs": [],
   "source": [
    "def count_words(file_paths):\n",
    "    text = \"\"\n",
    "    with ThreadPoolExecutor() as executor:\n",
    "        results = executor.map(read_file, file_paths)\n",
    "        for result in results:\n",
    "            text += result + \" \"\n",
    "    \n",
    "    words = re.findall(r'\\b\\w+\\b', text)\n",
    "    return Counter(words)"
   ]
  },
  {
   "cell_type": "code",
   "execution_count": 44,
   "metadata": {},
   "outputs": [
    {
     "name": "stdout",
     "output_type": "stream",
     "text": [
      "Top-5 words with the most occurrences:\n",
      "the: 14\n",
      "a: 12\n",
      "of: 8\n",
      "is: 7\n",
      "and: 6\n"
     ]
    }
   ],
   "source": [
    "def topfive_words(directory_path, top_n=5):\n",
    "    all_text = get_files(directory_path)\n",
    "    word_counts = count_words(all_text)\n",
    "    return word_counts.most_common(top_n)\n",
    "\n",
    "top_words = topfive_words(directory_path)\n",
    "print(\"Top-5 words with the most occurrences:\")\n",
    "for word, count in top_words:\n",
    "    print(f\"{word}: {count}\")"
   ]
  },
  {
   "cell_type": "markdown",
   "metadata": {},
   "source": [
    "Out of the top 5 words list, find the character count of each character."
   ]
  },
  {
   "cell_type": "code",
   "execution_count": 49,
   "metadata": {},
   "outputs": [
    {
     "name": "stdout",
     "output_type": "stream",
     "text": [
      "\n",
      "Character counts in the top-5 words:\n",
      "t: 1\n",
      "h: 1\n",
      "e: 1\n",
      "a: 2\n",
      "o: 1\n",
      "f: 1\n",
      "i: 1\n",
      "s: 1\n",
      "n: 1\n",
      "d: 1\n"
     ]
    }
   ],
   "source": [
    "def count_characters(words):\n",
    "    char_count = Counter()\n",
    "    for word in words:\n",
    "        char_count.update(word)\n",
    "    return char_count\n",
    "\n",
    "top_words = [word for word, count in top_words]\n",
    "\n",
    "character_counts = count_characters(top_words)\n",
    "print(\"\\nCharacter counts in the top-5 words:\")\n",
    "for char, count in character_counts.items():\n",
    "    print(f\"{char}: {count}\")"
   ]
  }
 ],
 "metadata": {
  "kernelspec": {
   "display_name": "base",
   "language": "python",
   "name": "python3"
  },
  "language_info": {
   "codemirror_mode": {
    "name": "ipython",
    "version": 3
   },
   "file_extension": ".py",
   "mimetype": "text/x-python",
   "name": "python",
   "nbconvert_exporter": "python",
   "pygments_lexer": "ipython3",
   "version": "3.11.5"
  }
 },
 "nbformat": 4,
 "nbformat_minor": 2
}
